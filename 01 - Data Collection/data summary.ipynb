{
 "cells": [
  {
   "cell_type": "markdown",
   "metadata": {},
   "source": [
    "## Dataset summary\n",
    "This dataset provides information on students' academic performance across multiple assessments. It includes student ID, gender, scores for Project Phase 1 and 2, Mid-Semester Test, Final Exam, and the final grade. The data shows a mix of male and female students, with scores ranging across different phases and exams. The final grade is categorized as either \"PA\" (Pass) or \"NN\" (No Pass), based on their performance. \n",
    "It highlights the variation in student achievements and provides insights into their academic progression. \n",
    "\n",
    "## Sources\n",
    "The raw data of csv file was downloaded from:\n",
    "- Source ID : https://github.com/akmand/datasets/blob/main/sample_grades.csv  \n",
    "- Owner is Dr. David Akman.\n",
    "\n",
    "## Dataset Variables and Analysis\n",
    "\n",
    "| **Variable Name**      | **Description**                                                     | **Type**             | **Role**                                  |\n",
    "|-------------------------|---------------------------------------------------------------------|----------------------|-------------------------------------------|\n",
    "| **Student ID**          | Unique identifier for each student.                                | Categorical (ID)     | Identifier, not used for calculations.    |\n",
    "| **Gender**              | Indicates the gender of the student (e.g., Male, Female).          | Categorical          | Grouping or comparison.                  |\n",
    "| **Project Phase 1**     | Score obtained by the student in Project Phase 1 (out of 20).      | Numeric (Ratio)      | Feature for academic performance analysis.|\n",
    "| **Project Phase 2**     | Score obtained in Project Phase 2 (out of 40).                     | Numeric (Ratio)      | Feature for academic performance analysis.|\n",
    "| **Mid-Semester Test**   | Score obtained in the mid-semester test (out of 100).              | Numeric (Ratio)      | Key performance indicator.               |\n",
    "| **Final Exam**          | Score obtained in the final exam (out of 100).                    | Numeric (Ratio)      | Key performance indicator.               |\n",
    "| **Grade**               | Final grade categorized as PA (Pass) or NN (No Pass).             | Categorical          | Target variable for classification.      |\n",
    "\n"
   ]
  }
 ],
 "metadata": {
  "language_info": {
   "name": "python"
  }
 },
 "nbformat": 4,
 "nbformat_minor": 2
}
