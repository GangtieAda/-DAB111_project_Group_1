{
 "cells": [
  {
   "cell_type": "markdown",
   "metadata": {},
   "source": [
    "## Dataset summary\n",
    "This dataset provides information on students' academic performance across multiple assessments. It includes student ID, gender, scores for Project Phase 1 and 2, Mid-Semester Test, Final Exam, and the final grade. The data shows a mix of male and female students, with scores ranging across different phases and exams. The final grade is categorized as either \"PA\" (Pass) or \"NN\" (No Pass), based on their performance. \n",
    "It highlights the variation in student achievements and provides insights into their academic progression. \n",
    "\n",
    "## Sources\n",
    "The raw data of csv file was downloaded from:\n",
    "- Source ID : https://github.com/akmand/datasets/blob/main/sample_grades.csv  \n",
    "- Owner is Dr. David Akman."
   ]
  }
 ],
 "metadata": {
  "language_info": {
   "name": "python"
  }
 },
 "nbformat": 4,
 "nbformat_minor": 2
}
